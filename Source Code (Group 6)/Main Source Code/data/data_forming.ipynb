{
 "cells": [
  {
   "cell_type": "code",
   "execution_count": 43,
   "metadata": {},
   "outputs": [
    {
     "data": {
      "text/plain": [
       "Index(['rating-other-user-rating', 'title', 'title href', 'display-name-link',\n",
       "       'review-date', 'text', 'actions href'],\n",
       "      dtype='object')"
      ]
     },
     "execution_count": 43,
     "metadata": {},
     "output_type": "execute_result"
    }
   ],
   "source": [
    "import pandas as pd\n",
    "import os\n",
    "\n",
    "#Load Data\n",
    "data = pd.read_csv(r'raw_movie_reviews\\movie_reviews9\\the_matrix_resurrections_I.csv')\n",
    "\n",
    "#Set Movie Title\n",
    "title = \"The Matrix Resurrections\"\n",
    "\n",
    "#drop unnecessary columns\n",
    "data = data.drop(columns=['point-scale','actions','display-name-link href'])\n",
    "data.columns"
   ]
  },
  {
   "cell_type": "code",
   "execution_count": 44,
   "metadata": {},
   "outputs": [
    {
     "name": "stdout",
     "output_type": "stream",
     "text": [
      "<class 'pandas.core.frame.DataFrame'>\n",
      "RangeIndex: 4721 entries, 0 to 4720\n",
      "Data columns (total 7 columns):\n",
      " #   Column         Non-Null Count  Dtype  \n",
      "---  ------         --------------  -----  \n",
      " 0   rating         4656 non-null   float64\n",
      " 1   comment_title  4721 non-null   object \n",
      " 2   review_link    4721 non-null   object \n",
      " 3   username       4721 non-null   object \n",
      " 4   datetime       4721 non-null   object \n",
      " 5   review         4719 non-null   object \n",
      " 6   actions href   4721 non-null   object \n",
      "dtypes: float64(1), object(6)\n",
      "memory usage: 258.3+ KB\n"
     ]
    }
   ],
   "source": [
    "#rename columns\n",
    "data = data.rename(columns={'rating-other-user-rating':'rating',\n",
    "                            'title':'comment_title',\n",
    "                            'display-name-link':'username',\n",
    "                            'review-date':'datetime',\n",
    "                            'title href':'review_link',\n",
    "                            'text':'review'})\n",
    "data.info()"
   ]
  },
  {
   "cell_type": "code",
   "execution_count": 45,
   "metadata": {},
   "outputs": [
    {
     "name": "stdout",
     "output_type": "stream",
     "text": [
      "<class 'pandas.core.frame.DataFrame'>\n",
      "Index: 4654 entries, 0 to 4711\n",
      "Data columns (total 8 columns):\n",
      " #   Column         Non-Null Count  Dtype  \n",
      "---  ------         --------------  -----  \n",
      " 0   rating         4654 non-null   float64\n",
      " 1   comment_title  4654 non-null   object \n",
      " 2   review_link    4654 non-null   object \n",
      " 3   username       4654 non-null   object \n",
      " 4   datetime       4654 non-null   object \n",
      " 5   review         4654 non-null   object \n",
      " 6   actions href   4654 non-null   object \n",
      " 7   movie_name     4654 non-null   object \n",
      "dtypes: float64(1), object(7)\n",
      "memory usage: 327.2+ KB\n"
     ]
    }
   ],
   "source": [
    "# Setting Movie Name & Data Cleaning\n",
    "data['movie_name'] = title\n",
    "\n",
    "# Drop duplicates but keep the first occurrence\n",
    "data = data.drop_duplicates()\n",
    "\n",
    "# Trim leading and trailing whitespace from the 'review' column\n",
    "data['review'] = data['review'].str.strip()\n",
    "\n",
    "# Take rows where 'rating' or 'review' are not empty strings or null after trimming\n",
    "data = data[(data['rating'].notna() & (data['rating'] != '')) & (data['review'].notna() & (data['review'] != ''))]\n",
    "\n",
    "data.info()"
   ]
  },
  {
   "cell_type": "code",
   "execution_count": null,
   "metadata": {},
   "outputs": [],
   "source": [
    "# # Append or concatenate dataframes to imdb\n",
    "# def assign_sentiment(rating):\n",
    "#     if 1 <= rating <= 4:\n",
    "#         return 'negative'\n",
    "#     elif 5 <= rating <= 6:\n",
    "#         return 'neutral'\n",
    "#     elif 7 <= rating <= 10:\n",
    "#         return 'positive'\n",
    "#     else:\n",
    "#         return None  # or 'unknown', if ratings are outside the 1-10 range\n",
    "\n",
    "# # Apply the function to the 'rating' column to create a new 'sentiment' column\n",
    "# data['sentiment'] = data['rating'].apply(assign_sentiment)\n",
    "# # data = data.drop(columns=['rating'])\n",
    "# data['sentiment'].value_counts()"
   ]
  },
  {
   "cell_type": "code",
   "execution_count": null,
   "metadata": {},
   "outputs": [],
   "source": [
    "print('Ensure your columns is exactly match with following \\n Expected Columns: [movie_name, comment_title, username, datetime, review_link, rating, review] \\n Actual Columns:', data.columns.tolist())\n",
    "# Set Counting\n",
    "i = 0"
   ]
  },
  {
   "cell_type": "code",
   "execution_count": 48,
   "metadata": {},
   "outputs": [
    {
     "name": "stdout",
     "output_type": "stream",
     "text": [
      "<class 'pandas.core.frame.DataFrame'>\n",
      "Index: 4654 entries, 0 to 4711\n",
      "Data columns (total 9 columns):\n",
      " #   Column         Non-Null Count  Dtype  \n",
      "---  ------         --------------  -----  \n",
      " 0   rating         4654 non-null   float64\n",
      " 1   comment_title  4654 non-null   object \n",
      " 2   review_link    4654 non-null   object \n",
      " 3   username       4654 non-null   object \n",
      " 4   datetime       4654 non-null   object \n",
      " 5   review         4654 non-null   object \n",
      " 6   actions href   4654 non-null   object \n",
      " 7   movie_name     4654 non-null   object \n",
      " 8   sentiment      4654 non-null   object \n",
      "dtypes: float64(1), object(8)\n",
      "memory usage: 363.6+ KB\n"
     ]
    }
   ],
   "source": [
    "data.info()"
   ]
  },
  {
   "cell_type": "code",
   "execution_count": 49,
   "metadata": {},
   "outputs": [],
   "source": [
    "new_column_order = ['id', 'movie_name', 'comment_title', 'username', 'datetime', 'review_link', 'rating', 'review']\n",
    "\n",
    "# Save to CSV\n",
    "def save_to_csv(df, filename):\n",
    "    \n",
    "    # Check if the file exists\n",
    "    if os.path.exists(filename):\n",
    "        \n",
    "        # Read the existing data\n",
    "        existing_df = pd.read_csv(filename)\n",
    "        \n",
    "        # Find the maximum id value\n",
    "        max_id = existing_df['id'].max()\n",
    "        \n",
    "        # Set the id for the new DataFrame, starting from max_id + 1\n",
    "        df['id'] = range(int(max_id) + 1, int(max_id) + 1 + len(df))\n",
    "        \n",
    "        # Concatenate the new data with the existing data\n",
    "        combined_df = pd.concat([existing_df, df], ignore_index=True)\n",
    "        \n",
    "    else:\n",
    "        # If the file doesn't exist, start ids from 1 for the new DataFrame\n",
    "        df['id'] = range(111488, 111488 + len(df))\n",
    "        \n",
    "        combined_df = df\n",
    "\n",
    "    # Save the combined DataFrame to CSV\n",
    "    combined_df = combined_df[new_column_order]\n",
    "    \n",
    "    # Ensuring the columns are in the same order as in the `data` DataFrame\n",
    "    combined_df.to_csv(filename, index=False, columns=combined_df.columns)\n",
    "\n",
    "# Usage\n",
    "if i == 0:\n",
    "    # Warning only run 1 time, run again to will caused duplicate rows\n",
    "    save_to_csv(data, r'raw_datasets\\dataset9.csv')\n",
    "    i += 1\n",
    "else:\n",
    "    print('Warning only run 1 time, run again to will caused duplicate rows')"
   ]
  }
 ],
 "metadata": {
  "kernelspec": {
   "display_name": "base",
   "language": "python",
   "name": "python3"
  },
  "language_info": {
   "codemirror_mode": {
    "name": "ipython",
    "version": 3
   },
   "file_extension": ".py",
   "mimetype": "text/x-python",
   "name": "python",
   "nbconvert_exporter": "python",
   "pygments_lexer": "ipython3",
   "version": "3.11.5"
  }
 },
 "nbformat": 4,
 "nbformat_minor": 2
}
